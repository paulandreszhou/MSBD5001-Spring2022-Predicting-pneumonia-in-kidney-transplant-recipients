{
 "cells": [
  {
   "cell_type": "code",
   "execution_count": 1,
   "metadata": {},
   "outputs": [],
   "source": [
    "import pandas as pd\n",
    "import sklearn\n",
    "import time\n",
    "from sklearn import metrics\n",
    "from sklearn.model_selection import train_test_split\n",
    "from sklearn.tree import DecisionTreeClassifier\n",
    "from sklearn.ensemble import RandomForestClassifier\n",
    "from sklearn.neighbors import KNeighborsClassifier\n",
    "\n",
    "from sklearn.model_selection import GridSearchCV\n",
    "from sklearn.metrics import confusion_matrix, ConfusionMatrixDisplay\n",
    "import matplotlib.pyplot as plt"
   ]
  },
  {
   "cell_type": "code",
   "execution_count": 2,
   "metadata": {},
   "outputs": [
    {
     "data": {
      "text/html": [
       "<div>\n",
       "<style scoped>\n",
       "    .dataframe tbody tr th:only-of-type {\n",
       "        vertical-align: middle;\n",
       "    }\n",
       "\n",
       "    .dataframe tbody tr th {\n",
       "        vertical-align: top;\n",
       "    }\n",
       "\n",
       "    .dataframe thead th {\n",
       "        text-align: right;\n",
       "    }\n",
       "</style>\n",
       "<table border=\"1\" class=\"dataframe\">\n",
       "  <thead>\n",
       "    <tr style=\"text-align: right;\">\n",
       "      <th></th>\n",
       "      <th>MO HLADR+ MFI (cells/ul)</th>\n",
       "      <th>Neu CD64+MFI (cells/ul)</th>\n",
       "      <th>CD3+T (cells/ul)</th>\n",
       "      <th>CD8+T (cells/ul)</th>\n",
       "      <th>CD4+T (cells/ul)</th>\n",
       "      <th>NK (cells/ul)</th>\n",
       "      <th>CD19+ (cells/ul)</th>\n",
       "      <th>CD45+ (cells/ul)</th>\n",
       "      <th>Age</th>\n",
       "      <th>Sex 0M1F</th>\n",
       "      <th>Mono CD64+MFI (cells/ul)</th>\n",
       "      <th>label</th>\n",
       "    </tr>\n",
       "    <tr>\n",
       "      <th>id</th>\n",
       "      <th></th>\n",
       "      <th></th>\n",
       "      <th></th>\n",
       "      <th></th>\n",
       "      <th></th>\n",
       "      <th></th>\n",
       "      <th></th>\n",
       "      <th></th>\n",
       "      <th></th>\n",
       "      <th></th>\n",
       "      <th></th>\n",
       "      <th></th>\n",
       "    </tr>\n",
       "  </thead>\n",
       "  <tbody>\n",
       "    <tr>\n",
       "      <th>0</th>\n",
       "      <td>3556.0</td>\n",
       "      <td>2489.0</td>\n",
       "      <td>265.19</td>\n",
       "      <td>77.53</td>\n",
       "      <td>176.55</td>\n",
       "      <td>0.00</td>\n",
       "      <td>4.20</td>\n",
       "      <td>307.91</td>\n",
       "      <td>52</td>\n",
       "      <td>0</td>\n",
       "      <td>7515.0</td>\n",
       "      <td>1</td>\n",
       "    </tr>\n",
       "    <tr>\n",
       "      <th>1</th>\n",
       "      <td>1906.0</td>\n",
       "      <td>134.0</td>\n",
       "      <td>1442.61</td>\n",
       "      <td>551.90</td>\n",
       "      <td>876.07</td>\n",
       "      <td>112.10</td>\n",
       "      <td>168.15</td>\n",
       "      <td>1735.48</td>\n",
       "      <td>20</td>\n",
       "      <td>1</td>\n",
       "      <td>1756.0</td>\n",
       "      <td>0</td>\n",
       "    </tr>\n",
       "    <tr>\n",
       "      <th>2</th>\n",
       "      <td>1586.0</td>\n",
       "      <td>71.0</td>\n",
       "      <td>1332.74</td>\n",
       "      <td>684.20</td>\n",
       "      <td>655.26</td>\n",
       "      <td>244.95</td>\n",
       "      <td>216.52</td>\n",
       "      <td>1820.04</td>\n",
       "      <td>28</td>\n",
       "      <td>1</td>\n",
       "      <td>1311.0</td>\n",
       "      <td>0</td>\n",
       "    </tr>\n",
       "    <tr>\n",
       "      <th>3</th>\n",
       "      <td>683.0</td>\n",
       "      <td>94.0</td>\n",
       "      <td>419.23</td>\n",
       "      <td>255.80</td>\n",
       "      <td>162.17</td>\n",
       "      <td>72.05</td>\n",
       "      <td>44.68</td>\n",
       "      <td>538.22</td>\n",
       "      <td>55</td>\n",
       "      <td>1</td>\n",
       "      <td>1443.0</td>\n",
       "      <td>0</td>\n",
       "    </tr>\n",
       "    <tr>\n",
       "      <th>4</th>\n",
       "      <td>1032.0</td>\n",
       "      <td>71.0</td>\n",
       "      <td>1102.72</td>\n",
       "      <td>480.27</td>\n",
       "      <td>625.30</td>\n",
       "      <td>188.78</td>\n",
       "      <td>130.77</td>\n",
       "      <td>1427.97</td>\n",
       "      <td>28</td>\n",
       "      <td>1</td>\n",
       "      <td>1542.0</td>\n",
       "      <td>0</td>\n",
       "    </tr>\n",
       "  </tbody>\n",
       "</table>\n",
       "</div>"
      ],
      "text/plain": [
       "    MO HLADR+ MFI (cells/ul)  Neu CD64+MFI (cells/ul)  CD3+T (cells/ul)  \\\n",
       "id                                                                        \n",
       "0                     3556.0                   2489.0            265.19   \n",
       "1                     1906.0                    134.0           1442.61   \n",
       "2                     1586.0                     71.0           1332.74   \n",
       "3                      683.0                     94.0            419.23   \n",
       "4                     1032.0                     71.0           1102.72   \n",
       "\n",
       "    CD8+T (cells/ul)  CD4+T (cells/ul)  NK (cells/ul)  CD19+ (cells/ul)  \\\n",
       "id                                                                        \n",
       "0              77.53            176.55           0.00              4.20   \n",
       "1             551.90            876.07         112.10            168.15   \n",
       "2             684.20            655.26         244.95            216.52   \n",
       "3             255.80            162.17          72.05             44.68   \n",
       "4             480.27            625.30         188.78            130.77   \n",
       "\n",
       "    CD45+ (cells/ul)  Age  Sex 0M1F  Mono CD64+MFI (cells/ul)  label  \n",
       "id                                                                    \n",
       "0             307.91   52         0                    7515.0      1  \n",
       "1            1735.48   20         1                    1756.0      0  \n",
       "2            1820.04   28         1                    1311.0      0  \n",
       "3             538.22   55         1                    1443.0      0  \n",
       "4            1427.97   28         1                    1542.0      0  "
      ]
     },
     "execution_count": 2,
     "metadata": {},
     "output_type": "execute_result"
    }
   ],
   "source": [
    "df_train = pd.read_csv(\"data/train.csv\",index_col=0)\n",
    "df_test = pd.read_csv(\"data/test.csv\",index_col=0)\n",
    "df_train.head()"
   ]
  },
  {
   "cell_type": "code",
   "execution_count": 3,
   "metadata": {},
   "outputs": [
    {
     "data": {
      "text/html": [
       "<div>\n",
       "<style scoped>\n",
       "    .dataframe tbody tr th:only-of-type {\n",
       "        vertical-align: middle;\n",
       "    }\n",
       "\n",
       "    .dataframe tbody tr th {\n",
       "        vertical-align: top;\n",
       "    }\n",
       "\n",
       "    .dataframe thead th {\n",
       "        text-align: right;\n",
       "    }\n",
       "</style>\n",
       "<table border=\"1\" class=\"dataframe\">\n",
       "  <thead>\n",
       "    <tr style=\"text-align: right;\">\n",
       "      <th></th>\n",
       "      <th>MO HLADR+ MFI (cells/ul)</th>\n",
       "      <th>Neu CD64+MFI (cells/ul)</th>\n",
       "      <th>CD3+T (cells/ul)</th>\n",
       "      <th>CD8+T (cells/ul)</th>\n",
       "      <th>CD4+T (cells/ul)</th>\n",
       "      <th>NK (cells/ul)</th>\n",
       "      <th>CD19+ (cells/ul)</th>\n",
       "      <th>CD45+ (cells/ul)</th>\n",
       "      <th>Age</th>\n",
       "      <th>Sex 0M1F</th>\n",
       "      <th>Mono CD64+MFI (cells/ul)</th>\n",
       "    </tr>\n",
       "    <tr>\n",
       "      <th>id</th>\n",
       "      <th></th>\n",
       "      <th></th>\n",
       "      <th></th>\n",
       "      <th></th>\n",
       "      <th></th>\n",
       "      <th></th>\n",
       "      <th></th>\n",
       "      <th></th>\n",
       "      <th></th>\n",
       "      <th></th>\n",
       "      <th></th>\n",
       "    </tr>\n",
       "  </thead>\n",
       "  <tbody>\n",
       "    <tr>\n",
       "      <th>0</th>\n",
       "      <td>2843.0</td>\n",
       "      <td>156.0</td>\n",
       "      <td>1358.52</td>\n",
       "      <td>730.78</td>\n",
       "      <td>637.85</td>\n",
       "      <td>127.06</td>\n",
       "      <td>94.82</td>\n",
       "      <td>1588.62</td>\n",
       "      <td>45</td>\n",
       "      <td>1</td>\n",
       "      <td>3256.0</td>\n",
       "    </tr>\n",
       "    <tr>\n",
       "      <th>1</th>\n",
       "      <td>437.0</td>\n",
       "      <td>137.0</td>\n",
       "      <td>509.43</td>\n",
       "      <td>268.05</td>\n",
       "      <td>243.07</td>\n",
       "      <td>390.86</td>\n",
       "      <td>98.24</td>\n",
       "      <td>1002.76</td>\n",
       "      <td>51</td>\n",
       "      <td>1</td>\n",
       "      <td>491.0</td>\n",
       "    </tr>\n",
       "    <tr>\n",
       "      <th>2</th>\n",
       "      <td>826.0</td>\n",
       "      <td>82.0</td>\n",
       "      <td>1232.22</td>\n",
       "      <td>493.42</td>\n",
       "      <td>744.08</td>\n",
       "      <td>516.28</td>\n",
       "      <td>320.15</td>\n",
       "      <td>2200.58</td>\n",
       "      <td>32</td>\n",
       "      <td>0</td>\n",
       "      <td>1381.0</td>\n",
       "    </tr>\n",
       "    <tr>\n",
       "      <th>3</th>\n",
       "      <td>861.0</td>\n",
       "      <td>50.0</td>\n",
       "      <td>1512.86</td>\n",
       "      <td>925.51</td>\n",
       "      <td>590.07</td>\n",
       "      <td>380.25</td>\n",
       "      <td>25.80</td>\n",
       "      <td>1929.10</td>\n",
       "      <td>50</td>\n",
       "      <td>0</td>\n",
       "      <td>1377.0</td>\n",
       "    </tr>\n",
       "    <tr>\n",
       "      <th>4</th>\n",
       "      <td>1160.0</td>\n",
       "      <td>157.0</td>\n",
       "      <td>890.42</td>\n",
       "      <td>403.91</td>\n",
       "      <td>489.53</td>\n",
       "      <td>266.92</td>\n",
       "      <td>87.63</td>\n",
       "      <td>1251.52</td>\n",
       "      <td>43</td>\n",
       "      <td>0</td>\n",
       "      <td>1844.0</td>\n",
       "    </tr>\n",
       "  </tbody>\n",
       "</table>\n",
       "</div>"
      ],
      "text/plain": [
       "    MO HLADR+ MFI (cells/ul)  Neu CD64+MFI (cells/ul)  CD3+T (cells/ul)  \\\n",
       "id                                                                        \n",
       "0                     2843.0                    156.0           1358.52   \n",
       "1                      437.0                    137.0            509.43   \n",
       "2                      826.0                     82.0           1232.22   \n",
       "3                      861.0                     50.0           1512.86   \n",
       "4                     1160.0                    157.0            890.42   \n",
       "\n",
       "    CD8+T (cells/ul)  CD4+T (cells/ul)  NK (cells/ul)  CD19+ (cells/ul)  \\\n",
       "id                                                                        \n",
       "0             730.78            637.85         127.06             94.82   \n",
       "1             268.05            243.07         390.86             98.24   \n",
       "2             493.42            744.08         516.28            320.15   \n",
       "3             925.51            590.07         380.25             25.80   \n",
       "4             403.91            489.53         266.92             87.63   \n",
       "\n",
       "    CD45+ (cells/ul)  Age  Sex 0M1F  Mono CD64+MFI (cells/ul)  \n",
       "id                                                             \n",
       "0            1588.62   45         1                    3256.0  \n",
       "1            1002.76   51         1                     491.0  \n",
       "2            2200.58   32         0                    1381.0  \n",
       "3            1929.10   50         0                    1377.0  \n",
       "4            1251.52   43         0                    1844.0  "
      ]
     },
     "execution_count": 3,
     "metadata": {},
     "output_type": "execute_result"
    }
   ],
   "source": [
    "df_test.head()"
   ]
  },
  {
   "cell_type": "code",
   "execution_count": 4,
   "metadata": {},
   "outputs": [
    {
     "name": "stdout",
     "output_type": "stream",
     "text": [
      "MO HLADR+ MFI (cells/ul)    1\n",
      "Neu CD64+MFI (cells/ul)     1\n",
      "CD3+T (cells/ul)            0\n",
      "CD8+T (cells/ul)            0\n",
      "CD4+T (cells/ul)            0\n",
      "NK (cells/ul)               0\n",
      "CD19+ (cells/ul)            0\n",
      "CD45+ (cells/ul)            0\n",
      "Age                         0\n",
      "Sex 0M1F                    0\n",
      "Mono CD64+MFI (cells/ul)    1\n",
      "label                       0\n",
      "dtype: int64\n"
     ]
    }
   ],
   "source": [
    "# check empty entries\n",
    "null_info = df_train.isnull().sum()\n",
    "print(null_info)"
   ]
  },
  {
   "cell_type": "code",
   "execution_count": 5,
   "metadata": {},
   "outputs": [
    {
     "name": "stdout",
     "output_type": "stream",
     "text": [
      "MO HLADR+ MFI (cells/ul)    0\n",
      "Neu CD64+MFI (cells/ul)     0\n",
      "CD3+T (cells/ul)            0\n",
      "CD8+T (cells/ul)            0\n",
      "CD4+T (cells/ul)            0\n",
      "NK (cells/ul)               0\n",
      "CD19+ (cells/ul)            0\n",
      "CD45+ (cells/ul)            0\n",
      "Age                         0\n",
      "Sex 0M1F                    0\n",
      "Mono CD64+MFI (cells/ul)    0\n",
      "label                       0\n",
      "dtype: int64\n"
     ]
    }
   ],
   "source": [
    "# fill up empty entries with median\n",
    "median1 = df_train[\"MO HLADR+ MFI (cells/ul)\"].median()\n",
    "median2 = df_train[\"Neu CD64+MFI (cells/ul)\"].median()\n",
    "median3 = df_train[\"Mono CD64+MFI (cells/ul)\"].median()\n",
    "df_train[\"MO HLADR+ MFI (cells/ul)\"]= df_train[\"MO HLADR+ MFI (cells/ul)\"].fillna(median1)\n",
    "df_train[\"Neu CD64+MFI (cells/ul)\"]= df_train[\"Neu CD64+MFI (cells/ul)\"].fillna(median2)\n",
    "df_train[\"Mono CD64+MFI (cells/ul)\"]= df_train[\"Mono CD64+MFI (cells/ul)\"].fillna(median3)\n",
    "\n",
    "null_info = df_train.isnull().sum()\n",
    "print(null_info)"
   ]
  },
  {
   "cell_type": "code",
   "execution_count": 6,
   "metadata": {},
   "outputs": [],
   "source": [
    "x = df_train.drop([\"label\"], axis=1)\n",
    "y = df_train[\"label\"]\n",
    "x_train, x_val, y_train, y_val = train_test_split(x, y, test_size=0.2, random_state=100)\n",
    "x_test = df_test.copy()"
   ]
  },
  {
   "cell_type": "code",
   "execution_count": 7,
   "metadata": {},
   "outputs": [
    {
     "name": "stdout",
     "output_type": "stream",
     "text": [
      "accuracy:  0.7777777777777778\n",
      "precision:  0.7811965811965812\n",
      "recall:  0.7777777777777778\n",
      "f1:  0.7685185185185185\n",
      "training time:  0.0035600662231445312\n"
     ]
    }
   ],
   "source": [
    "#define Decision Tree Classifier with criterion of entropy and depth of 5\n",
    "clf = DecisionTreeClassifier(criterion = 'entropy', max_depth = 5)  \n",
    "trainingTime = time.time() #training start time\n",
    "clf.fit(x_train, y_train)\n",
    "trainingTime = time.time() - trainingTime #calculate training time \n",
    "out = clf.predict(x_val) #result of prediction with tree\n",
    "accuracy = metrics.accuracy_score(y_val, out) #accuracy score\n",
    "precision = metrics.precision_score(y_val, out, average='weighted') #precision score\n",
    "recall = metrics.recall_score(y_val, out, average='weighted') #recall score\n",
    "f1 = metrics.f1_score(y_val, out, average='weighted') #f1 score\n",
    "#output\n",
    "print('accuracy: ', accuracy)\n",
    "print('precision: ', precision)\n",
    "print('recall: ', recall)\n",
    "print('f1: ', f1)\n",
    "print('training time: ', trainingTime)"
   ]
  },
  {
   "cell_type": "code",
   "execution_count": 8,
   "metadata": {},
   "outputs": [
    {
     "data": {
      "image/png": "[encoded data removed]",
      "text/plain": [
       "<Figure size 432x288 with 2 Axes>"
      ]
     },
     "metadata": {
      "needs_background": "light"
     },
     "output_type": "display_data"
    }
   ],
   "source": [
    "ConfusionMatrixDisplay.from_predictions(y_val.values, out, cmap='YlGn')\n",
    "plt.title(\"\"\"Confusion Matrix for GridSearchCV: Accuracy{:.4}\"\"\".format(accuracy))\n",
    "plt.show()"
   ]
  },
  {
   "cell_type": "code",
   "execution_count": 9,
   "metadata": {},
   "outputs": [],
   "source": [
    "id_list = x_test.index.tolist()\n",
    "y_test_decisiontree = clf.predict(x_test).tolist()\n",
    "df_sub_decisiontree = pd.DataFrame({\"id\":id_list, \"label\":y_test_decisiontree})\n",
    "df_sub_decisiontree.to_csv(\"submission_decisiontree.csv\",index=False)"
   ]
  },
  {
   "cell_type": "code",
   "execution_count": 10,
   "metadata": {},
   "outputs": [
    {
     "name": "stdout",
     "output_type": "stream",
     "text": [
      "accuracy:  0.8333333333333334\n",
      "precision:  0.8333333333333335\n",
      "recall:  0.8333333333333334\n",
      "f1:  0.830546265328874\n",
      "training time:  0.002446413040161133\n"
     ]
    }
   ],
   "source": [
    "#bulid KNN classifier\n",
    "knn = KNeighborsClassifier(algorithm='ball_tree') \n",
    "trainingTime = time.time() #training start time\n",
    "knn.fit(x_train, y_train)\n",
    "trainingTime = time.time() - trainingTime #calculate training time\n",
    "out = knn.predict(x_val) #result of prediction with KNN\n",
    "accuracy = metrics.accuracy_score(y_val, out) #accuracy score\n",
    "precision = metrics.precision_score(y_val, out, average='weighted') #precision score\n",
    "recall = metrics.recall_score(y_val, out, average='weighted') #recall score\n",
    "f1 = metrics.f1_score(y_val, out, average='weighted') #f1 score\n",
    "#output\n",
    "print('accuracy: ', accuracy)\n",
    "print('precision: ', precision)\n",
    "print('recall: ', recall)\n",
    "print('f1: ', f1)\n",
    "print('training time: ', trainingTime)"
   ]
  },
  {
   "cell_type": "code",
   "execution_count": 11,
   "metadata": {},
   "outputs": [
    {
     "data": {
      "image/png": "[encoded data removed]",
      "text/plain": [
       "<Figure size 432x288 with 2 Axes>"
      ]
     },
     "metadata": {
      "needs_background": "light"
     },
     "output_type": "display_data"
    }
   ],
   "source": [
    "ConfusionMatrixDisplay.from_predictions(y_val.values, out, cmap='YlGn')\n",
    "plt.title(\"\"\"Confusion Matrix for GridSearchCV: Accuracy{:.4}\"\"\".format(accuracy))\n",
    "plt.show()"
   ]
  },
  {
   "cell_type": "code",
   "execution_count": 12,
   "metadata": {},
   "outputs": [],
   "source": [
    "y_test_knn = knn.predict(x_test).tolist()\n",
    "df_sub_knn = pd.DataFrame({\"id\":id_list, \"label\":y_test_knn})\n",
    "df_sub_knn.to_csv(\"submission_knn.csv\",index=False)"
   ]
  },
  {
   "cell_type": "code",
   "execution_count": 13,
   "metadata": {},
   "outputs": [
    {
     "name": "stdout",
     "output_type": "stream",
     "text": [
      "accuracy:  0.8888888888888888\n",
      "precision:  0.9059829059829059\n",
      "recall:  0.8888888888888888\n",
      "f1:  0.8842592592592591\n",
      "training time:  0.06969928741455078\n"
     ]
    }
   ],
   "source": [
    "#build random forest with 100 estimators\n",
    "rfc = RandomForestClassifier(n_estimators = 100)\n",
    "trainingTime = time.time() #training start time\n",
    "rfc.fit(x_train, y_train)\n",
    "trainingTime = time.time() - trainingTime #calculate training time\n",
    "out = rfc.predict(x_val) #result of prediction with Random Forest\n",
    "accuracy = metrics.accuracy_score(y_val, out) #accuracy score\n",
    "precision = metrics.precision_score(y_val, out, average='weighted') #precision score\n",
    "recall = metrics.recall_score(y_val, out, average='weighted') #recall score\n",
    "f1 = metrics.f1_score(y_val, out, average='weighted') #f1 score\n",
    "#output\n",
    "print('accuracy: ', accuracy)\n",
    "print('precision: ', precision)\n",
    "print('recall: ', recall)\n",
    "print('f1: ', f1)\n",
    "print('training time: ', trainingTime)"
   ]
  },
  {
   "cell_type": "code",
   "execution_count": 14,
   "metadata": {},
   "outputs": [
    {
     "data": {
      "image/png": "[encoded data removed]",
      "text/plain": [
       "<Figure size 432x288 with 2 Axes>"
      ]
     },
     "metadata": {
      "needs_background": "light"
     },
     "output_type": "display_data"
    }
   ],
   "source": [
    "ConfusionMatrixDisplay.from_predictions(y_val.values, out, cmap='YlGn')\n",
    "plt.title(\"\"\"Confusion Matrix for GridSearchCV: Accuracy{:.4}\"\"\".format(accuracy))\n",
    "plt.show()"
   ]
  },
  {
   "cell_type": "code",
   "execution_count": 15,
   "metadata": {},
   "outputs": [],
   "source": [
    "y_test_randomforest = rfc.predict(x_test).tolist()\n",
    "df_sub_randomforest = pd.DataFrame({\"id\":id_list, \"label\":y_test_randomforest})\n",
    "df_sub_randomforest.to_csv(\"submission_randomforest.csv\",index=False)"
   ]
  },
  {
   "cell_type": "code",
   "execution_count": null,
   "metadata": {},
   "outputs": [],
   "source": []
  }
 ],
 "metadata": {
  "kernelspec": {
   "display_name": "Python 3",
   "language": "python",
   "name": "python3"
  },
  "language_info": {
   "codemirror_mode": {
    "name": "ipython",
    "version": 3
   },
   "file_extension": ".py",
   "mimetype": "text/x-python",
   "name": "python",
   "nbconvert_exporter": "python",
   "pygments_lexer": "ipython3",
   "version": "3.8.3"
  }
 },
 "nbformat": 4,
 "nbformat_minor": 4
}
